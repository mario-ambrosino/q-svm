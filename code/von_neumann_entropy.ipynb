{
 "cells": [
  {
   "cell_type": "markdown",
   "metadata": {},
   "source": [
    "# Reply to \"Entanglement lost\" Question in QML Course\n",
    "\n",
    "[Check the question here](https://courses.edx.org/courses/course-v1:University_of_TorontoX+UTQML101x+2T2019/courseware/5833ff13fd1f4507a4016b4a60fa75bb/8022840dfd7a438981ea6aa15501a0e5/?child=first)"
   ]
  },
  {
   "cell_type": "markdown",
   "metadata": {},
   "source": [
    "First let's import the necessary code from the Jupyter Notebook, in this we define the density mixed matrix obtained from a pure state density matrix added with a maximally_mixed_state "
   ]
  },
  {
   "cell_type": "code",
   "execution_count": 20,
   "metadata": {},
   "outputs": [],
   "source": [
    "import math\n",
    "import numpy as np\n",
    "import matplotlib.pyplot as plt\n",
    "\n",
    "def mixed_state(pure_state, visibility):\n",
    "    density_matrix = pure_state * pure_state.T.conj()\n",
    "    maximally_mixed_state = np.eye(4)/2**2\n",
    "    return visibility*density_matrix + (1-visibility)*maximally_mixed_state"
   ]
  },
  {
   "cell_type": "markdown",
   "metadata": {},
   "source": [
    "Then, let's define the Von Neumann Entropy. [I borrowed this code forme Computer Science Stack Exchange](https://cs.stackexchange.com/questions/56261/computing-von-neumann-entropy-efficiently), it works very well (avoids the infinity problem that the log_2 implies)"
   ]
  },
  {
   "cell_type": "code",
   "execution_count": 43,
   "metadata": {},
   "outputs": [],
   "source": [
    "def von_neumann_entropy(density_matrix, cutoff=10):\n",
    "    \n",
    "    # assign as numpy matrix the input\n",
    "    x = np.mat(density_matrix)\n",
    "    # define a identity matrix with the same dimension \n",
    "    one = np.identity(x.shape[0])\n",
    "    # performs the polynomial expansion\n",
    "    base = one - x\n",
    "    power = base*base\n",
    "    result = np.trace(base)\n",
    "    for k in range(2, cutoff):\n",
    "        result -= np.trace(power) / (k*k - k)\n",
    "        power = power.dot(base)\n",
    "\n",
    "    # Twiddly hacky magic.\n",
    "    a = cutoff\n",
    "    for k in range(3):\n",
    "        d = (a+1) / (4*a*(a-1))\n",
    "        result -= np.trace(power) * d\n",
    "        power = power.dot(power)\n",
    "        result -= np.trace(power) * d\n",
    "        a *= 2\n",
    "    result -= np.trace(power) / (a-1) * 0.75\n",
    "\n",
    "    return result / math.log(2)  # convert from nats to bits"
   ]
  },
  {
   "cell_type": "markdown",
   "metadata": {},
   "source": [
    "Another way to test the purity of a quantum state in Von Neumann representation (density operator representation) is the [**purity test**](https://en.wikipedia.org/wiki/Purity_(quantum_mechanics)):"
   ]
  },
  {
   "cell_type": "code",
   "execution_count": null,
   "metadata": {},
   "outputs": [],
   "source": [
    "def purity_test (density_matrix):\n",
    "    return np.trace(np.matmul(density_matrix,density_matrix))"
   ]
  },
  {
   "cell_type": "markdown",
   "metadata": {},
   "source": [
    "Then, let's define the state as a Bell's state:"
   ]
  },
  {
   "cell_type": "code",
   "execution_count": 44,
   "metadata": {},
   "outputs": [],
   "source": [
    "# State definition\n",
    "zero_ket = [[0],[1]]\n",
    "one_ket = [[1],[0]]\n",
    "\n",
    "state_00 = np.kron(zero_ket,zero_ket)\n",
    "state_11 = np.kron(one_ket,one_ket)\n",
    "\n",
    "ϕ = (state_00 + state_11)\n",
    "ϕ = ϕ / np.linalg.norm(ϕ)"
   ]
  },
  {
   "cell_type": "markdown",
   "metadata": {},
   "source": [
    "Now, we define a data structure which contains the Von Neumann entropy values and purity test of the the mixed state in function of the visibility parameter."
   ]
  },
  {
   "cell_type": "code",
   "execution_count": 50,
   "metadata": {},
   "outputs": [],
   "source": [
    "visibilities = np.linspace(0, 1, 100)\n",
    "\n",
    "entropy = []\n",
    "ptest = []\n",
    "for v in visibilities:\n",
    "    m_state = mixed_state(ϕ, v)\n",
    "    entropy.append(von_neumann_entropy(m_state))\n",
    "    ptest.append(purity_test(m_state))\n"
   ]
  },
  {
   "cell_type": "markdown",
   "metadata": {},
   "source": [
    "Finally, we plot this function"
   ]
  },
  {
   "cell_type": "code",
   "execution_count": 49,
   "metadata": {},
   "outputs": [
    {
     "data": {
      "text/plain": [
       "<matplotlib.legend.Legend at 0x7f697833c780>"
      ]
     },
     "execution_count": 49,
     "metadata": {},
     "output_type": "execute_result"
    },
    {
     "data": {
      "image/png": "[encoded data removed]",
      "text/plain": [
       "<Figure size 432x288 with 1 Axes>"
      ]
     },
     "metadata": {
      "needs_background": "light"
     },
     "output_type": "display_data"
    }
   ],
   "source": [
    "fig, ax = plt.subplots()\n",
    "ax.plot(visibilities, entropy, linewidth=3, label = \"Entropy\")\n",
    "ax.plot(visibilities, ptest, linewidth=3, label = \"Purity Test\")\n",
    "ax.set_xlim(0, 1)\n",
    "ax.set_ylim(0, 1.2*max(entropy))\n",
    "ax.set_xticks([0, 0.2, 0.4, 0.6, 0.8, 1])\n",
    "ax.set_yticks([2,1,0.5,0,1])\n",
    "ax.set_xlabel('Visibility')\n",
    "ax.set_ylabel('Entropy')\n",
    "ax.legend()"
   ]
  },
  {
   "cell_type": "markdown",
   "metadata": {},
   "source": [
    "In the plot, we can see that the entropy is maximum when the visibility is 0. That parameter has the theoretical minimum purity value: 1 / D where D = 4 is the dimension of the Hilbert space. (cfr. wikipedia article). "
   ]
  }
 ],
 "metadata": {
  "kernelspec": {
   "display_name": "Python 3",
   "language": "python",
   "name": "python3"
  },
  "language_info": {
   "codemirror_mode": {
    "name": "ipython",
    "version": 3
   },
   "file_extension": ".py",
   "mimetype": "text/x-python",
   "name": "python",
   "nbconvert_exporter": "python",
   "pygments_lexer": "ipython3",
   "version": "3.7.3"
  }
 },
 "nbformat": 4,
 "nbformat_minor": 2
}
